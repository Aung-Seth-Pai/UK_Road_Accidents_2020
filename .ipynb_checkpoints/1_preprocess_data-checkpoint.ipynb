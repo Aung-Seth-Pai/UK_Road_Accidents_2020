{
 "cells": [
  {
   "cell_type": "code",
   "execution_count": 1,
   "metadata": {
    "scrolled": true
   },
   "outputs": [
    {
     "name": "stderr",
     "output_type": "stream",
     "text": [
      "/home/seth/.local/lib/python3.8/site-packages/pandas/compat/__init__.py:124: UserWarning: Could not import the lzma module. Your installed Python is incomplete. Attempting to use lzma compression will result in a RuntimeError.\n",
      "  warnings.warn(msg)\n"
     ]
    }
   ],
   "source": [
    "import pandas as pd\n",
    "import geopandas as gpd\n",
    "import helper\n",
    "\n",
    "from shapely.geometry import Point\n",
    "from pathlib import Path\n",
    "\n",
    "from warnings import filterwarnings\n",
    "filterwarnings(\"ignore\")"
   ]
  },
  {
   "cell_type": "code",
   "execution_count": 2,
   "metadata": {
    "scrolled": false
   },
   "outputs": [
    {
     "name": "stdout",
     "output_type": "stream",
     "text": [
      "accidents:  (91199, 36)\n"
     ]
    },
    {
     "data": {
      "text/html": [
       "<div>\n",
       "<style scoped>\n",
       "    .dataframe tbody tr th:only-of-type {\n",
       "        vertical-align: middle;\n",
       "    }\n",
       "\n",
       "    .dataframe tbody tr th {\n",
       "        vertical-align: top;\n",
       "    }\n",
       "\n",
       "    .dataframe thead th {\n",
       "        text-align: right;\n",
       "    }\n",
       "</style>\n",
       "<table border=\"1\" class=\"dataframe\">\n",
       "  <thead>\n",
       "    <tr style=\"text-align: right;\">\n",
       "      <th></th>\n",
       "      <th>accident_index</th>\n",
       "      <th>accident_year</th>\n",
       "      <th>accident_reference</th>\n",
       "      <th>location_easting_osgr</th>\n",
       "      <th>location_northing_osgr</th>\n",
       "      <th>longitude</th>\n",
       "      <th>latitude</th>\n",
       "      <th>police_force</th>\n",
       "      <th>accident_severity</th>\n",
       "      <th>number_of_vehicles</th>\n",
       "      <th>...</th>\n",
       "      <th>pedestrian_crossing_physical_facilities</th>\n",
       "      <th>light_conditions</th>\n",
       "      <th>weather_conditions</th>\n",
       "      <th>road_surface_conditions</th>\n",
       "      <th>special_conditions_at_site</th>\n",
       "      <th>carriageway_hazards</th>\n",
       "      <th>urban_or_rural_area</th>\n",
       "      <th>did_police_officer_attend_scene_of_accident</th>\n",
       "      <th>trunk_road_flag</th>\n",
       "      <th>lsoa_of_accident_location</th>\n",
       "    </tr>\n",
       "  </thead>\n",
       "  <tbody>\n",
       "    <tr>\n",
       "      <th>0</th>\n",
       "      <td>2020010219808</td>\n",
       "      <td>2020</td>\n",
       "      <td>10219808</td>\n",
       "      <td>521389.0</td>\n",
       "      <td>175144.0</td>\n",
       "      <td>-0.254001</td>\n",
       "      <td>51.462262</td>\n",
       "      <td>1</td>\n",
       "      <td>3</td>\n",
       "      <td>1</td>\n",
       "      <td>...</td>\n",
       "      <td>9</td>\n",
       "      <td>1</td>\n",
       "      <td>9</td>\n",
       "      <td>9</td>\n",
       "      <td>0</td>\n",
       "      <td>0</td>\n",
       "      <td>1</td>\n",
       "      <td>3</td>\n",
       "      <td>2</td>\n",
       "      <td>E01004576</td>\n",
       "    </tr>\n",
       "    <tr>\n",
       "      <th>1</th>\n",
       "      <td>2020010220496</td>\n",
       "      <td>2020</td>\n",
       "      <td>10220496</td>\n",
       "      <td>529337.0</td>\n",
       "      <td>176237.0</td>\n",
       "      <td>-0.139253</td>\n",
       "      <td>51.470327</td>\n",
       "      <td>1</td>\n",
       "      <td>3</td>\n",
       "      <td>1</td>\n",
       "      <td>...</td>\n",
       "      <td>4</td>\n",
       "      <td>1</td>\n",
       "      <td>1</td>\n",
       "      <td>1</td>\n",
       "      <td>0</td>\n",
       "      <td>0</td>\n",
       "      <td>1</td>\n",
       "      <td>1</td>\n",
       "      <td>2</td>\n",
       "      <td>E01003034</td>\n",
       "    </tr>\n",
       "    <tr>\n",
       "      <th>2</th>\n",
       "      <td>2020010228005</td>\n",
       "      <td>2020</td>\n",
       "      <td>10228005</td>\n",
       "      <td>526432.0</td>\n",
       "      <td>182761.0</td>\n",
       "      <td>-0.178719</td>\n",
       "      <td>51.529614</td>\n",
       "      <td>1</td>\n",
       "      <td>3</td>\n",
       "      <td>1</td>\n",
       "      <td>...</td>\n",
       "      <td>0</td>\n",
       "      <td>4</td>\n",
       "      <td>1</td>\n",
       "      <td>2</td>\n",
       "      <td>0</td>\n",
       "      <td>0</td>\n",
       "      <td>1</td>\n",
       "      <td>1</td>\n",
       "      <td>2</td>\n",
       "      <td>E01004726</td>\n",
       "    </tr>\n",
       "    <tr>\n",
       "      <th>3</th>\n",
       "      <td>2020010228006</td>\n",
       "      <td>2020</td>\n",
       "      <td>10228006</td>\n",
       "      <td>538676.0</td>\n",
       "      <td>184371.0</td>\n",
       "      <td>-0.001683</td>\n",
       "      <td>51.541210</td>\n",
       "      <td>1</td>\n",
       "      <td>2</td>\n",
       "      <td>1</td>\n",
       "      <td>...</td>\n",
       "      <td>4</td>\n",
       "      <td>4</td>\n",
       "      <td>1</td>\n",
       "      <td>1</td>\n",
       "      <td>0</td>\n",
       "      <td>0</td>\n",
       "      <td>1</td>\n",
       "      <td>1</td>\n",
       "      <td>2</td>\n",
       "      <td>E01003617</td>\n",
       "    </tr>\n",
       "    <tr>\n",
       "      <th>4</th>\n",
       "      <td>2020010228011</td>\n",
       "      <td>2020</td>\n",
       "      <td>10228011</td>\n",
       "      <td>529324.0</td>\n",
       "      <td>181286.0</td>\n",
       "      <td>-0.137592</td>\n",
       "      <td>51.515704</td>\n",
       "      <td>1</td>\n",
       "      <td>3</td>\n",
       "      <td>1</td>\n",
       "      <td>...</td>\n",
       "      <td>0</td>\n",
       "      <td>4</td>\n",
       "      <td>1</td>\n",
       "      <td>1</td>\n",
       "      <td>0</td>\n",
       "      <td>0</td>\n",
       "      <td>1</td>\n",
       "      <td>1</td>\n",
       "      <td>2</td>\n",
       "      <td>E01004763</td>\n",
       "    </tr>\n",
       "  </tbody>\n",
       "</table>\n",
       "<p>5 rows × 36 columns</p>\n",
       "</div>"
      ],
      "text/plain": [
       "  accident_index  accident_year accident_reference  location_easting_osgr  \\\n",
       "0  2020010219808           2020           10219808               521389.0   \n",
       "1  2020010220496           2020           10220496               529337.0   \n",
       "2  2020010228005           2020           10228005               526432.0   \n",
       "3  2020010228006           2020           10228006               538676.0   \n",
       "4  2020010228011           2020           10228011               529324.0   \n",
       "\n",
       "   location_northing_osgr  longitude   latitude  police_force  \\\n",
       "0                175144.0  -0.254001  51.462262             1   \n",
       "1                176237.0  -0.139253  51.470327             1   \n",
       "2                182761.0  -0.178719  51.529614             1   \n",
       "3                184371.0  -0.001683  51.541210             1   \n",
       "4                181286.0  -0.137592  51.515704             1   \n",
       "\n",
       "   accident_severity  number_of_vehicles  ...  \\\n",
       "0                  3                   1  ...   \n",
       "1                  3                   1  ...   \n",
       "2                  3                   1  ...   \n",
       "3                  2                   1  ...   \n",
       "4                  3                   1  ...   \n",
       "\n",
       "   pedestrian_crossing_physical_facilities light_conditions  \\\n",
       "0                                        9                1   \n",
       "1                                        4                1   \n",
       "2                                        0                4   \n",
       "3                                        4                4   \n",
       "4                                        0                4   \n",
       "\n",
       "   weather_conditions road_surface_conditions  special_conditions_at_site  \\\n",
       "0                   9                       9                           0   \n",
       "1                   1                       1                           0   \n",
       "2                   1                       2                           0   \n",
       "3                   1                       1                           0   \n",
       "4                   1                       1                           0   \n",
       "\n",
       "  carriageway_hazards urban_or_rural_area  \\\n",
       "0                   0                   1   \n",
       "1                   0                   1   \n",
       "2                   0                   1   \n",
       "3                   0                   1   \n",
       "4                   0                   1   \n",
       "\n",
       "   did_police_officer_attend_scene_of_accident  trunk_road_flag  \\\n",
       "0                                            3                2   \n",
       "1                                            1                2   \n",
       "2                                            1                2   \n",
       "3                                            1                2   \n",
       "4                                            1                2   \n",
       "\n",
       "   lsoa_of_accident_location  \n",
       "0                  E01004576  \n",
       "1                  E01003034  \n",
       "2                  E01004726  \n",
       "3                  E01003617  \n",
       "4                  E01004763  \n",
       "\n",
       "[5 rows x 36 columns]"
      ]
     },
     "execution_count": 2,
     "metadata": {},
     "output_type": "execute_result"
    }
   ],
   "source": [
    "# import data\n",
    "accidents = pd.read_csv(\"./data/accident.csv\")\n",
    "lookup = pd.read_csv(r\"./data/road-safety-lookups.csv\")\n",
    "\n",
    "print(\"accidents: \", accidents.shape)\n",
    "accidents.head()"
   ]
  },
  {
   "cell_type": "markdown",
   "metadata": {},
   "source": [
    "### Clean data"
   ]
  },
  {
   "cell_type": "code",
   "execution_count": 3,
   "metadata": {
    "scrolled": true
   },
   "outputs": [
    {
     "data": {
      "text/plain": [
       "accident_index                                  0\n",
       "accident_year                                   0\n",
       "accident_reference                              0\n",
       "location_easting_osgr                          14\n",
       "location_northing_osgr                         14\n",
       "longitude                                      14\n",
       "latitude                                       14\n",
       "police_force                                    0\n",
       "accident_severity                               0\n",
       "number_of_vehicles                              0\n",
       "number_of_casualties                            0\n",
       "date                                            0\n",
       "day_of_week                                     0\n",
       "time                                            0\n",
       "local_authority_district                        0\n",
       "local_authority_ons_district                    0\n",
       "local_authority_highway                         0\n",
       "first_road_class                                0\n",
       "first_road_number                               0\n",
       "road_type                                       0\n",
       "speed_limit                                     0\n",
       "junction_detail                                 0\n",
       "junction_control                                0\n",
       "second_road_class                               0\n",
       "second_road_number                              0\n",
       "pedestrian_crossing_human_control               0\n",
       "pedestrian_crossing_physical_facilities         0\n",
       "light_conditions                                0\n",
       "weather_conditions                              0\n",
       "road_surface_conditions                         0\n",
       "special_conditions_at_site                      0\n",
       "carriageway_hazards                             0\n",
       "urban_or_rural_area                             0\n",
       "did_police_officer_attend_scene_of_accident     0\n",
       "trunk_road_flag                                 0\n",
       "lsoa_of_accident_location                       0\n",
       "dtype: int64"
      ]
     },
     "execution_count": 3,
     "metadata": {},
     "output_type": "execute_result"
    }
   ],
   "source": [
    "# find missing values in each column\n",
    "accidents.isnull().sum()"
   ]
  },
  {
   "cell_type": "code",
   "execution_count": 4,
   "metadata": {
    "scrolled": true
   },
   "outputs": [
    {
     "name": "stdout",
     "output_type": "stream",
     "text": [
      "Dimension after dropping:  (91185, 36)\n"
     ]
    }
   ],
   "source": [
    "# use listwise deletion since dataset is large with very few missing vals \n",
    "accidents = accidents.dropna()\n",
    "print(\"Dimension after dropping: \", accidents.shape)"
   ]
  },
  {
   "cell_type": "code",
   "execution_count": 5,
   "metadata": {},
   "outputs": [
    {
     "data": {
      "text/plain": [
       "0"
      ]
     },
     "execution_count": 5,
     "metadata": {},
     "output_type": "execute_result"
    }
   ],
   "source": [
    "# check for duplicates\n",
    "accidents.duplicated().sum()"
   ]
  },
  {
   "cell_type": "markdown",
   "metadata": {},
   "source": [
    "### Modify labels for EDA\n",
    "\n",
    "The given dataset uses numeric labels and their meanings are documented in the **lookup** file. For EDA purposes, we will first convert those to meaningful text labels."
   ]
  },
  {
   "cell_type": "code",
   "execution_count": 6,
   "metadata": {},
   "outputs": [],
   "source": [
    "columns_to_convert = [\"accident_severity\", \"urban_or_rural_area\", \"road_type\",\\\n",
    "                      \"pedestrian_crossing_physical_facilities\", \"special_conditions_at_site\",\\\n",
    "                      \"road_surface_conditions\", \"weather_conditions\", \"carriageway_hazards\",\\\n",
    "                      \"light_conditions\"]\n",
    "\n",
    "for col in columns_to_convert:\n",
    "    accidents[col] = accidents[col].replace(helper.name_lookup(lookup, col))"
   ]
  },
  {
   "cell_type": "markdown",
   "metadata": {},
   "source": [
    "**Create useful columns**"
   ]
  },
  {
   "cell_type": "code",
   "execution_count": 7,
   "metadata": {},
   "outputs": [],
   "source": [
    "# col for filtering major and non-major accidents with boolean masks\n",
    "accidents[\"is_major_accident\"] = False\n",
    "major_indices = accidents.query(\"(accident_severity=='Fatal') & (number_of_casualties>=3)\").index\n",
    "accidents.loc[major_indices, \"is_major_accident\"] = True "
   ]
  },
  {
   "cell_type": "code",
   "execution_count": 8,
   "metadata": {},
   "outputs": [],
   "source": [
    "# extract finer details from datetime column\n",
    "accidents[\"hour\"] = accidents.time.str.extract(r\"(\\d+):\", expand=False).astype(int)\n",
    "# accidents['minutes'] = accidents.time.str.extract(r\":(\\d+)\", expand=False).astype(int)\n",
    "accidents.date = pd.to_datetime(accidents.date, dayfirst=True)"
   ]
  },
  {
   "cell_type": "markdown",
   "metadata": {},
   "source": [
    "**Make GeoDataFrame**"
   ]
  },
  {
   "cell_type": "code",
   "execution_count": 9,
   "metadata": {},
   "outputs": [
    {
     "name": "stdout",
     "output_type": "stream",
     "text": [
      "GeoDataFrame is already created.\n"
     ]
    }
   ],
   "source": [
    "### Create the geo dataframe unless already made\n",
    "\n",
    "# look for the geo_df dataframe\n",
    "my_file = Path(\"data/geo_df.geojson\") # path for geo_df\n",
    "\n",
    "if my_file.is_file():\n",
    "    print(\"GeoDataFrame is already created.\")\n",
    "else:\n",
    "    # create geo_df dataframe from main dataframe\n",
    "    geometry = [Point(xy) for xy in zip(accidents[\"longitude\"], accidents[\"latitude\"])]\n",
    "    geo_df = gpd.GeoDataFrame(accidents, crs=\"crs\", geometry=geometry)\n",
    "    \n",
    "    # address will later be fetched from Photon's reverse geocoding API \n",
    "    geo_df[\"address\"] = -1 # create column for saving addresses\n",
    "    \n",
    "    # save to file\n",
    "    geo_df.to_file(\"data/geo_df.geojson\", driver=\"GeoJSON\") # export and save geo_df"
   ]
  },
  {
   "cell_type": "markdown",
   "metadata": {},
   "source": [
    "**Save data**"
   ]
  },
  {
   "cell_type": "code",
   "execution_count": 10,
   "metadata": {},
   "outputs": [],
   "source": [
    "accidents.to_csv(\"./data/accidents_clean.csv\", index=False)"
   ]
  }
 ],
 "metadata": {
  "kernelspec": {
   "display_name": "Python 3 (ipykernel)",
   "language": "python",
   "name": "python3"
  },
  "language_info": {
   "codemirror_mode": {
    "name": "ipython",
    "version": 3
   },
   "file_extension": ".py",
   "mimetype": "text/x-python",
   "name": "python",
   "nbconvert_exporter": "python",
   "pygments_lexer": "ipython3",
   "version": "3.8.0"
  },
  "toc": {
   "base_numbering": 1,
   "nav_menu": {},
   "number_sections": true,
   "sideBar": true,
   "skip_h1_title": false,
   "title_cell": "Table of Contents",
   "title_sidebar": "Contents",
   "toc_cell": false,
   "toc_position": {},
   "toc_section_display": true,
   "toc_window_display": false
  },
  "varInspector": {
   "cols": {
    "lenName": 16,
    "lenType": 16,
    "lenVar": 40
   },
   "kernels_config": {
    "python": {
     "delete_cmd_postfix": "",
     "delete_cmd_prefix": "del ",
     "library": "var_list.py",
     "varRefreshCmd": "print(var_dic_list())"
    },
    "r": {
     "delete_cmd_postfix": ") ",
     "delete_cmd_prefix": "rm(",
     "library": "var_list.r",
     "varRefreshCmd": "cat(var_dic_list()) "
    }
   },
   "types_to_exclude": [
    "module",
    "function",
    "builtin_function_or_method",
    "instance",
    "_Feature"
   ],
   "window_display": false
  }
 },
 "nbformat": 4,
 "nbformat_minor": 2
}
